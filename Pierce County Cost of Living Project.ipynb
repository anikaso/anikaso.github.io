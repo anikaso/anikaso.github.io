{
 "cells": [
  {
   "cell_type": "markdown",
   "id": "7b63444f-72ed-4e25-becb-4832630a3ee0",
   "metadata": {},
   "source": [
    "# Pierce County Cost of Living Project"
   ]
  },
  {
   "cell_type": "code",
   "execution_count": 2,
   "id": "21e27352-a7b7-40bc-8a47-7eb034031a5f",
   "metadata": {
    "tags": []
   },
   "outputs": [],
   "source": [
    "import matplotlib\n",
    "from datascience import *\n",
    "%matplotlib inline\n",
    "import matplotlib.pyplot as plots\n",
    "import numpy as np\n",
    "plots.style.use('fivethirtyeight')\n",
    "from scipy import stats"
   ]
  },
  {
   "cell_type": "markdown",
   "id": "70ea5d97-2120-4f8d-be2e-debd3c2a7499",
   "metadata": {},
   "source": [
    "# Pierce County House Sales Data for 2020\n",
    "\n",
    "The real estate market in Pierce County, Washington, experienced significant changes and challenges in 2020 due to the impact of the COVID-19 pandemic. As the year unfolded, buyers and sellers navigated a shifting landscape influenced by economic uncertainty, low inventory, and interest rate fluctuations. Despite these hurdles, the housing market remained resilient, driven by continued demand for homes in suburban areas like Pierce County, as remote work became more common and people sought more space.\n",
    "\n",
    "In Pierce County, the year saw a notable rise in home prices, with a strong preference for single-family homes, especially in the more affordable areas compared to neighboring King County. However, the market also faced inventory shortages, leading to competitive bidding and a seller's market in many regions of the county. For prospective buyers, this presented both challenges and opportunities, while sellers were in a strong position to capitalize on demand.\n",
    "\n",
    "Despite the pandemic's disruptions, 2020's real estate market in Pierce County demonstrated the area's continued appeal due to its proximity to the Seattle-Tacoma metropolitan area, scenic landscapes, and relatively affordable housing options.\n",
    "\n",
    "The original `pierce_county_house_sales.csv` data set is a data frame with 16814 rows and 19 variables. For our data science purposes, we have selected only 13 of all variables that are of interest to us.\n",
    "\n",
    "A description of each of the 13 variables variables is provided below."
   ]
  },
  {
   "cell_type": "markdown",
   "id": "cb15d8a6-9f6e-42a8-bd10-39c674c2deb1",
   "metadata": {},
   "source": [
    "Variables              | Descriptions\n",
    "---------------------- | -----------------------------------------------------\n",
    "_sale_price_           | Dollar amount recorded for the sale.\n",
    "_house_square_feet_    | Sum of the square feet for the building.\n",
    "_basement_square_feet_             | Total square footage of the basement.\n",
    "_attached_garage_square_feet_                   | Total square footage of the attached or built in garage(s).\n",
    "_detached_garage_square_feet_            | Total detached garage(s) square footage.\n",
    "_fireplaces_        | Total count of single, double or PreFab stoves.\n",
    "_hvac_description_          |Text description associated with the predominant heating source for the built-as structure i.e. Forced Air, Electric Baseboard, Steam, etc. \n",
    "_exterior_            | Predominant type of construction materials used for the exterior siding on Residential Buildings.\n",
    "_stories_         | Number of floors/building levels above grade. Stories do not include attic or basement areas.\n",
    "_roof_cover_       | Material used for the roof. I.e. Composition Shingles, Wood Shake, Concrete Tile, etc.\n",
    "_year_built_               | Year the building was built, as stated by the building permit or a historical record.\n",
    "_bedrooms_    | Number of bedrooms listed for a residential property.\n",
    "_bathrooms_                  | Number of baths listed for a residential property. If the number is listed as a decimal, i.e. 2.75 = two full and one three-quarter baths. A tub/sink/toilet combination (plus any additional fixtures) is considered 1.0 bath. A shower/sink/toilet combination (plus any additional fixtures) is 0.75 bath. A sink/toilet combination is .5 bath.\n"
   ]
  },
  {
   "cell_type": "code",
   "execution_count": 3,
   "id": "8be1d88a-b833-4fc6-8ad6-59e1c2b626c9",
   "metadata": {
    "tags": []
   },
   "outputs": [
    {
     "data": {
      "text/html": [
       "<table border=\"1\" class=\"dataframe\">\n",
       "    <thead>\n",
       "        <tr>\n",
       "            <th>sale_price</th> <th>house_square_feet</th> <th>basement_square_feet</th> <th>attached_garage_square_feet</th> <th>detached_garage_square_feet</th> <th>fireplaces</th> <th>hvac_description</th> <th>exterior</th> <th>stories</th> <th>roof_cover</th> <th>year_built</th> <th>bedrooms</th> <th>bathrooms</th>\n",
       "        </tr>\n",
       "    </thead>\n",
       "    <tbody>\n",
       "        <tr>\n",
       "            <td>380000    </td> <td>2157             </td> <td>0                   </td> <td>528                        </td> <td>0                          </td> <td>0         </td> <td>Warm and Cool Air Zone</td> <td>Frame Siding</td> <td>2      </td> <td>Composition Shingle</td> <td>1993      </td> <td>3       </td> <td>3        </td>\n",
       "        </tr>\n",
       "        <tr>\n",
       "            <td>383000    </td> <td>2238             </td> <td>0                   </td> <td>396                        </td> <td>0                          </td> <td>0         </td> <td>Forced Air            </td> <td>Frame Siding</td> <td>2      </td> <td>Composition Shingle</td> <td>2017      </td> <td>4       </td> <td>3        </td>\n",
       "        </tr>\n",
       "        <tr>\n",
       "            <td>419900    </td> <td>1452             </td> <td>0                   </td> <td>0                          </td> <td>0                          </td> <td>1         </td> <td>Forced Air            </td> <td>Frame Siding</td> <td>1      </td> <td>Built Up Rock      </td> <td>1965      </td> <td>3       </td> <td>2        </td>\n",
       "        </tr>\n",
       "        <tr>\n",
       "            <td>251660    </td> <td>832              </td> <td>0                   </td> <td>0                          </td> <td>0                          </td> <td>0         </td> <td>Forced Air            </td> <td>Frame Vinyl </td> <td>1      </td> <td>Composition Shingle</td> <td>1919      </td> <td>2       </td> <td>1        </td>\n",
       "        </tr>\n",
       "        <tr>\n",
       "            <td>500000    </td> <td>1780             </td> <td>384                 </td> <td>484                        </td> <td>0                          </td> <td>1         </td> <td>Forced Air            </td> <td>Frame Siding</td> <td>1      </td> <td>Composition Shingle</td> <td>1955      </td> <td>3       </td> <td>2        </td>\n",
       "        </tr>\n",
       "        <tr>\n",
       "            <td>250000    </td> <td>989              </td> <td>0                   </td> <td>0                          </td> <td>0                          </td> <td>1         </td> <td>Electric Baseboard    </td> <td>Frame Siding</td> <td>1      </td> <td>Composition Shingle</td> <td>1925      </td> <td>2       </td> <td>1        </td>\n",
       "        </tr>\n",
       "        <tr>\n",
       "            <td>360000    </td> <td>2048             </td> <td>0                   </td> <td>441                        </td> <td>0                          </td> <td>1         </td> <td>Forced Air            </td> <td>Frame Siding</td> <td>2      </td> <td>Composition Shingle</td> <td>1998      </td> <td>4       </td> <td>3        </td>\n",
       "        </tr>\n",
       "        <tr>\n",
       "            <td>370000    </td> <td>1118             </td> <td>0                   </td> <td>242                        </td> <td>0                          </td> <td>0         </td> <td>Electric Baseboard    </td> <td>Frame Siding</td> <td>1      </td> <td>Composition Shingle</td> <td>1968      </td> <td>3       </td> <td>1        </td>\n",
       "        </tr>\n",
       "        <tr>\n",
       "            <td>485000    </td> <td>978              </td> <td>968                 </td> <td>0                          </td> <td>0                          </td> <td>1         </td> <td>Warm and Cool Air Zone</td> <td>Frame Siding</td> <td>1      </td> <td>Composition Shingle</td> <td>1925      </td> <td>3       </td> <td>2        </td>\n",
       "        </tr>\n",
       "        <tr>\n",
       "            <td>475000    </td> <td>2238             </td> <td>0                   </td> <td>436                        </td> <td>0                          </td> <td>1         </td> <td>Heat Pump             </td> <td>Frame Siding</td> <td>2      </td> <td>Composition Shingle</td> <td>2019      </td> <td>3       </td> <td>3        </td>\n",
       "        </tr>\n",
       "    </tbody>\n",
       "</table>\n",
       "<p>... (16804 rows omitted)</p>"
      ],
      "text/plain": [
       "sale_price | house_square_feet | basement_square_feet | attached_garage_square_feet | detached_garage_square_feet | fireplaces | hvac_description       | exterior     | stories | roof_cover          | year_built | bedrooms | bathrooms\n",
       "380000     | 2157              | 0                    | 528                         | 0                           | 0          | Warm and Cool Air Zone | Frame Siding | 2       | Composition Shingle | 1993       | 3        | 3\n",
       "383000     | 2238              | 0                    | 396                         | 0                           | 0          | Forced Air             | Frame Siding | 2       | Composition Shingle | 2017       | 4        | 3\n",
       "419900     | 1452              | 0                    | 0                           | 0                           | 1          | Forced Air             | Frame Siding | 1       | Built Up Rock       | 1965       | 3        | 2\n",
       "251660     | 832               | 0                    | 0                           | 0                           | 0          | Forced Air             | Frame Vinyl  | 1       | Composition Shingle | 1919       | 2        | 1\n",
       "500000     | 1780              | 384                  | 484                         | 0                           | 1          | Forced Air             | Frame Siding | 1       | Composition Shingle | 1955       | 3        | 2\n",
       "250000     | 989               | 0                    | 0                           | 0                           | 1          | Electric Baseboard     | Frame Siding | 1       | Composition Shingle | 1925       | 2        | 1\n",
       "360000     | 2048              | 0                    | 441                         | 0                           | 1          | Forced Air             | Frame Siding | 2       | Composition Shingle | 1998       | 4        | 3\n",
       "370000     | 1118              | 0                    | 242                         | 0                           | 0          | Electric Baseboard     | Frame Siding | 1       | Composition Shingle | 1968       | 3        | 1\n",
       "485000     | 978               | 968                  | 0                           | 0                           | 1          | Warm and Cool Air Zone | Frame Siding | 1       | Composition Shingle | 1925       | 3        | 2\n",
       "475000     | 2238              | 0                    | 436                         | 0                           | 1          | Heat Pump              | Frame Siding | 2       | Composition Shingle | 2019       | 3        | 3\n",
       "... (16804 rows omitted)"
      ]
     },
     "execution_count": 3,
     "metadata": {},
     "output_type": "execute_result"
    }
   ],
   "source": [
    "\n",
    "house_sales = Table.read_table('pierce_county_house_sales.csv').select(\n",
    "    ['sale_price', 'house_square_feet', 'basement_square_feet', 'attached_garage_square_feet', \n",
    "    'detached_garage_square_feet', 'fireplaces', 'hvac_description',\n",
    "    'exterior', 'stories', 'roof_cover', 'year_built',\n",
    "    'bedrooms','bathrooms'])\n",
    "\n",
    "house_sales"
   ]
  },
  {
   "cell_type": "markdown",
   "id": "833de86b-f43c-4f51-bb16-a9609c073d3b",
   "metadata": {},
   "source": [
    "## What are the most common features in high-demand properties in Pierce County? By analyzing features such as home size, number of bedrooms/bathrooms, amenities, and other property characteristics, we can understand the attributes of homes that sold quickly and for higher prices. "
   ]
  },
  {
   "cell_type": "code",
   "execution_count": 4,
   "id": "3a2f354b-e63a-4059-96dd-4cd97086e530",
   "metadata": {
    "tags": []
   },
   "outputs": [
    {
     "data": {
      "text/html": [
       "<table border=\"1\" class=\"dataframe\">\n",
       "    <thead>\n",
       "        <tr>\n",
       "            <th>hvac_description</th> <th>count</th>\n",
       "        </tr>\n",
       "    </thead>\n",
       "    <tbody>\n",
       "        <tr>\n",
       "            <td>Forced Air            </td> <td>10382</td>\n",
       "        </tr>\n",
       "        <tr>\n",
       "            <td>Electric Baseboard    </td> <td>2668 </td>\n",
       "        </tr>\n",
       "        <tr>\n",
       "            <td>Heat Pump             </td> <td>2084 </td>\n",
       "        </tr>\n",
       "        <tr>\n",
       "            <td>Warm and Cool Air Zone</td> <td>1268 </td>\n",
       "        </tr>\n",
       "        <tr>\n",
       "            <td>Floor/Wall Furnace    </td> <td>174  </td>\n",
       "        </tr>\n",
       "        <tr>\n",
       "            <td>Hot Water Baseboard   </td> <td>146  </td>\n",
       "        </tr>\n",
       "        <tr>\n",
       "            <td>No Heat               </td> <td>82   </td>\n",
       "        </tr>\n",
       "        <tr>\n",
       "            <td>nan                   </td> <td>7    </td>\n",
       "        </tr>\n",
       "        <tr>\n",
       "            <td>Electric              </td> <td>2    </td>\n",
       "        </tr>\n",
       "        <tr>\n",
       "            <td>Floor Wall Furnace    </td> <td>1    </td>\n",
       "        </tr>\n",
       "    </tbody>\n",
       "</table>"
      ],
      "text/plain": [
       "hvac_description       | count\n",
       "Forced Air             | 10382\n",
       "Electric Baseboard     | 2668\n",
       "Heat Pump              | 2084\n",
       "Warm and Cool Air Zone | 1268\n",
       "Floor/Wall Furnace     | 174\n",
       "Hot Water Baseboard    | 146\n",
       "No Heat                | 82\n",
       "nan                    | 7\n",
       "Electric               | 2\n",
       "Floor Wall Furnace     | 1"
      ]
     },
     "execution_count": 4,
     "metadata": {},
     "output_type": "execute_result"
    }
   ],
   "source": [
    "\n",
    "freq_dist = house_sales.group('hvac_description').sort('count', descending=True)\n",
    "freq_dist"
   ]
  },
  {
   "cell_type": "code",
   "execution_count": 5,
   "id": "a9d93113-4266-4bf5-8c0e-2bd12dd32b0b",
   "metadata": {
    "tags": []
   },
   "outputs": [
    {
     "name": "stdout",
     "output_type": "stream",
     "text": [
      "The most common Hvac-type is Forced Air with a prevalence percentage of 61.75 %.\n"
     ]
    }
   ],
   "source": [
    "all_homes = house_sales.num_rows\n",
    "most_common = freq_dist.column('count').item(0)\n",
    "percent_preval = (most_common / all_homes) * 100\n",
    "\n",
    "com_type = freq_dist.column('hvac_description').item(0)\n",
    "print('The most common Hvac-type is', com_type, 'with a prevalence percentage of', round(percent_preval, 2),'%.')"
   ]
  },
  {
   "cell_type": "markdown",
   "id": "27917a18-a46c-4e8d-8466-2cb6b5c82953",
   "metadata": {},
   "source": [
    "## What combination of `Number of floors/building levels above grade` and `hvac_description` have the highest `house_square_feet` on average."
   ]
  },
  {
   "cell_type": "code",
   "execution_count": 18,
   "id": "bc46c0f2-a027-4864-b5c2-3ab62800f529",
   "metadata": {
    "scrolled": true,
    "tags": []
   },
   "outputs": [
    {
     "data": {
      "text/html": [
       "<table border=\"1\" class=\"dataframe\">\n",
       "    <thead>\n",
       "        <tr>\n",
       "            <th>stories</th> <th>Electric</th> <th>Electric Baseboard</th> <th>Floor Wall Furnace</th> <th>Floor/Wall Furnace</th> <th>Forced Air</th> <th>Heat Pump</th> <th>Hot Water Baseboard</th> <th>No Heat</th> <th>Warm and Cool Air Zone</th> <th>nan</th>\n",
       "        </tr>\n",
       "    </thead>\n",
       "    <tbody>\n",
       "        <tr>\n",
       "            <td>0      </td> <td>0       </td> <td>327.25            </td> <td>0                 </td> <td>800               </td> <td>2334.07   </td> <td>2567.38  </td> <td>0                  </td> <td>439    </td> <td>1892.5                </td> <td>504   </td>\n",
       "        </tr>\n",
       "        <tr>\n",
       "            <td>1      </td> <td>364     </td> <td>1121.54           </td> <td>0                 </td> <td>892.615           </td> <td>1417.24   </td> <td>1881.2   </td> <td>1702.48            </td> <td>809.216</td> <td>1783.14               </td> <td>625.75</td>\n",
       "        </tr>\n",
       "        <tr>\n",
       "            <td>2      </td> <td>805     </td> <td>1623.56           </td> <td>2958              </td> <td>1511.1            </td> <td>2220.86   </td> <td>2586.41  </td> <td>2544.8             </td> <td>2232   </td> <td>2630.27               </td> <td>658   </td>\n",
       "        </tr>\n",
       "        <tr>\n",
       "            <td>3      </td> <td>0       </td> <td>2333.5            </td> <td>0                 </td> <td>0                 </td> <td>2560.63   </td> <td>2799     </td> <td>3738               </td> <td>0      </td> <td>3113.14               </td> <td>0     </td>\n",
       "        </tr>\n",
       "    </tbody>\n",
       "</table>"
      ],
      "text/plain": [
       "stories | Electric | Electric Baseboard | Floor Wall Furnace | Floor/Wall Furnace | Forced Air | Heat Pump | Hot Water Baseboard | No Heat | Warm and Cool Air Zone | nan\n",
       "0       | 0        | 327.25             | 0                  | 800                | 2334.07    | 2567.38   | 0                   | 439     | 1892.5                 | 504\n",
       "1       | 364      | 1121.54            | 0                  | 892.615            | 1417.24    | 1881.2    | 1702.48             | 809.216 | 1783.14                | 625.75\n",
       "2       | 805      | 1623.56            | 2958               | 1511.1             | 2220.86    | 2586.41   | 2544.8              | 2232    | 2630.27                | 658\n",
       "3       | 0        | 2333.5             | 0                  | 0                  | 2560.63    | 2799      | 3738                | 0       | 3113.14                | 0"
      ]
     },
     "execution_count": 18,
     "metadata": {},
     "output_type": "execute_result"
    }
   ],
   "source": [
    "average_house_square_feet = house_sales.pivot('hvac_description', 'stories', values='house_square_feet', collect=np.average)\n",
    "average_house_square_feet"
   ]
  },
  {
   "cell_type": "code",
   "execution_count": 19,
   "id": "0934f54b-864f-4252-b0dc-3eec4f10f95f",
   "metadata": {
    "scrolled": true,
    "tags": []
   },
   "outputs": [
    {
     "data": {
      "image/png": "[encoded data removed]",
      "text/plain": [
       "<Figure size 600x400 with 1 Axes>"
      ]
     },
     "metadata": {},
     "output_type": "display_data"
    }
   ],
   "source": [
    "average_house_square_feet.barh(0)"
   ]
  },
  {
   "cell_type": "markdown",
   "id": "70ffff8b-49a8-4d66-9ca4-ba9c7bbf579f",
   "metadata": {},
   "source": [
    "## Function `max_price` that has the following arguments: `roof_type`, `hvac`, `price_min`, `price_max`, `min_bedroom`, and `max_bedroom`. For a given `roof_type` and `hvac`, the function should return the maximum price of only buildings whose prices are as low as the `price_min`, but up to the `price_max` and whose number of bedrooms listed are as low as the `min_bedroom`, but up to the `max_bedroom`. Useful for home hunting."
   ]
  },
  {
   "cell_type": "code",
   "execution_count": 21,
   "id": "9fd9a7ce-6290-493d-8e53-f63f1aec3996",
   "metadata": {
    "tags": []
   },
   "outputs": [
    {
     "data": {
      "text/plain": [
       "2900000"
      ]
     },
     "execution_count": 21,
     "metadata": {},
     "output_type": "execute_result"
    }
   ],
   "source": [
    "def max_price(roof_type, hvac, price_min, price_max, min_bedroom, max_bedroom):\n",
    "    sorted_data = house_sales.where('roof_cover', are.equal_to(roof_type)).where('hvac_description', are.equal_to(hvac)).where('sale_price', are.between(price_min, price_max)).where('bedrooms', are.between(min_bedroom, max_bedroom))\n",
    "    return max(sorted_data.column('sale_price'))\n",
    "    return \n",
    "\n",
    "\n",
    "max_price('Composition Shingle', 'Forced Air', 1_500_000, 3_000_000, 2, 7)"
   ]
  },
  {
   "cell_type": "markdown",
   "id": "77a7a029-31be-4262-99b6-f6f380ee9785",
   "metadata": {},
   "source": [
    "## What were the key factors influencing home prices in Pierce County in 2020? This involves analyzing the relationship between home prices and variables like property size, number of bedrooms, location, age of the home, and economic factors (e.g., unemployment rates, interest rates).\n",
    "\n",
    "## Does the data provide any evidence that `house_square_feet` is an informative predictor of the `sale_price` of a building in Pierce County? "
   ]
  },
  {
   "cell_type": "code",
   "execution_count": 62,
   "id": "c309e91a-983f-4247-bc9c-fe8a80d6c14d",
   "metadata": {
    "tags": []
   },
   "outputs": [
    {
     "data": {
      "image/png": "[encoded data removed]",
      "text/plain": [
       "<Figure size 500x500 with 1 Axes>"
      ]
     },
     "metadata": {},
     "output_type": "display_data"
    }
   ],
   "source": [
    "\n",
    "def standard_units(x):\n",
    "    \"Convert any array of numbers to standard units.\"\n",
    "    return (x - np.average(x)) / np.std(x)\n",
    "\n",
    "Table().with_columns(\n",
    "    'house_square_feet (standard units)',  standard_units(house_sales.column('house_square_feet')), \n",
    "    'sale_price (standard units)', standard_units(house_sales.column('sale_price'))\n",
    ").scatter(0, 1, fit_line=True)"
   ]
  },
  {
   "cell_type": "code",
   "execution_count": 64,
   "id": "3961c3bc-e8ce-4ed5-bfa0-e0064a00461c",
   "metadata": {
    "tags": []
   },
   "outputs": [
    {
     "data": {
      "text/plain": [
       "0.52632567892659499"
      ]
     },
     "execution_count": 64,
     "metadata": {},
     "output_type": "execute_result"
    }
   ],
   "source": [
    "\n",
    "\n",
    "def standard_units(x):\n",
    "    return (x - np.mean(x)) / np.std(x)\n",
    "\n",
    "def correlation(t, x, y):\n",
    "    \"\"\"t is a table; x and y are column labels\"\"\"\n",
    "    x_in_standard_units = standard_units(t.column(x))\n",
    "    y_in_standard_units = standard_units(t.column(y))\n",
    "    return np.average(x_in_standard_units * y_in_standard_units)\n",
    "\n",
    "correlation(house_sales, 'house_square_feet', 'sale_price')"
   ]
  },
  {
   "cell_type": "code",
   "execution_count": 68,
   "id": "9d3f98ba-09e5-41f8-a617-464d943e137b",
   "metadata": {
    "tags": []
   },
   "outputs": [
    {
     "name": "stdout",
     "output_type": "stream",
     "text": [
      "95% confidence interval for slope: [155.297, 171.675]\n"
     ]
    },
    {
     "data": {
      "image/png": "[encoded data removed]",
      "text/plain": [
       "<Figure size 600x400 with 1 Axes>"
      ]
     },
     "metadata": {},
     "output_type": "display_data"
    }
   ],
   "source": [
    "\n",
    "def fit_line(tbl, x_col, y_col):\n",
    "    x = tbl.column(x_col)\n",
    "    y = tbl.column(y_col)\n",
    "    \n",
    "    r = correlation(tbl, x_col, y_col)\n",
    "    std_x = np.std(x)\n",
    "    std_y = np.std(y)\n",
    "    \n",
    "    slope = r * (std_y / std_x)\n",
    "    intercept = np.mean(y) - slope * np.mean(x)\n",
    "    \n",
    "    return make_array(slope, intercept)\n",
    "\n",
    "fit_line(house_sales, \"house_square_feet\", \"sale_price\")\n",
    "\n",
    "resample_slopes = make_array()\n",
    "\n",
    "for i in np.arange(500): \n",
    "    house_sales_resample = house_sales.sample()\n",
    "    resample_line = fit_line(house_sales_resample, \"house_square_feet\", \"sale_price\")\n",
    "    resample_slope = resample_line.item(0) \n",
    "    resample_slopes = np.append(resample_slopes, resample_slope)\n",
    "    \n",
    "Table().with_column(\"Slope estimate\", resample_slopes).hist()\n",
    "\n",
    "lower_end = np.percentile(resample_slopes, 2.5)\n",
    "upper_end = np.percentile(resample_slopes, 97.5)\n",
    "print(\"95% confidence interval for slope: [{:g}, {:g}]\".format(lower_end, upper_end))"
   ]
  },
  {
   "cell_type": "markdown",
   "id": "2fe47378-a979-4911-894b-cb17a35095e0",
   "metadata": {},
   "source": [
    "In this case, our null hypothesis was that the slope of the regression line between house square feet and sale price is 0. Our alternative hypothesis was that the slope of the regression line between house square feet and sale price is not 0. Based on the confidence interval, we would reject the null hypothesis that the true slope is 0 because the interval does not contain 0. Since the interval does not contain the number 0, then we reject the null (in favor of the alternative). This means that there is a relationship between x and y such that when you are given x you can determine y. The p-value cutoff we are using is 0.05, corresponding to the 95% confidence level. In this case, the confidence interval not containing 0 supports rejecting the null hypothesis at the 0.05 significance level. All in all, there is statistically significant relationship between house square feet and sale price, meaning that there is evidence that house_square_feet is an informative predictor of the sale_price of a building in Pierce County."
   ]
  },
  {
   "cell_type": "markdown",
   "id": "1f91c855-dd0e-4380-9083-e1d78ac16958",
   "metadata": {},
   "source": [
    "## Are buildings with 0 or 1 stories less spacious(measured by the size of `house_square_feet`) than stories with 2 or more stories? Does this data suggest that the `house_square_feet` of buildings with 0 or 1 stories is lesser on average than the `house_square_feet` of buildings with 2 or more stories. "
   ]
  },
  {
   "cell_type": "code",
   "execution_count": 26,
   "id": "5cad67cf-a44a-4897-be2d-3187e4d92f05",
   "metadata": {
    "tags": []
   },
   "outputs": [],
   "source": [
    "def Class(x):\n",
    "    if x <= 1:\n",
    "        return '1'\n",
    "    elif x >= 2:\n",
    "        return '0'\n",
    "\n",
    "class_variable = house_sales.apply(Class, 'stories')\n",
    "\n",
    "house_hyp = house_sales.with_column('Class', class_variable)"
   ]
  },
  {
   "cell_type": "code",
   "execution_count": 74,
   "id": "24d8b547-efd8-481d-b5d1-6ff6678b8641",
   "metadata": {
    "tags": []
   },
   "outputs": [
    {
     "data": {
      "text/html": [
       "<table border=\"1\" class=\"dataframe\">\n",
       "    <thead>\n",
       "        <tr>\n",
       "            <th>Class</th> <th>house_square_feet average</th>\n",
       "        </tr>\n",
       "    </thead>\n",
       "    <tbody>\n",
       "        <tr>\n",
       "            <td>0    </td> <td>2261.95                  </td>\n",
       "        </tr>\n",
       "        <tr>\n",
       "            <td>1    </td> <td>1403.94                  </td>\n",
       "        </tr>\n",
       "    </tbody>\n",
       "</table>"
      ],
      "text/plain": [
       "Class | house_square_feet average\n",
       "0     | 2261.95\n",
       "1     | 1403.94"
      ]
     },
     "execution_count": 74,
     "metadata": {},
     "output_type": "execute_result"
    }
   ],
   "source": [
    "zero_avg_square_feet = np.average(house_hyp.where('Class', '0').column('house_square_feet'))\n",
    "one_avg_square_feet = np.average(house_hyp.where('Class', '1').column('house_square_feet'))\n",
    "\n",
    "def square_feet_avg(Class):\n",
    "    if Class == '1':\n",
    "        return one_avg_square_feet\n",
    "    elif Class == '0':\n",
    "        return zero_avg_square_feet\n",
    "    \n",
    "avg_square_feet = house_hyp.apply(square_feet_avg, 'Class')\n",
    "\n",
    "class_square_feet = house_hyp.select('Class', 'house_square_feet')\n",
    "Class_average = class_square_feet.group('Class', np.average)\n",
    "Class_average"
   ]
  },
  {
   "cell_type": "code",
   "execution_count": 75,
   "id": "4a2aaaaa-8b44-4239-a742-aff582d95c70",
   "metadata": {
    "tags": []
   },
   "outputs": [
    {
     "data": {
      "text/plain": [
       "858.0145122524884"
      ]
     },
     "execution_count": 75,
     "metadata": {},
     "output_type": "execute_result"
    }
   ],
   "source": [
    "observed_value = Class_average.column('house_square_feet average').item(0) - Class_average.column('house_square_feet average').item(1)\n",
    "observed_value"
   ]
  },
  {
   "cell_type": "code",
   "execution_count": 76,
   "id": "4c3651e2-12de-43ce-bce0-ded3196813f9",
   "metadata": {
    "tags": []
   },
   "outputs": [
    {
     "data": {
      "text/plain": [
       "-858.0145122524884"
      ]
     },
     "execution_count": 76,
     "metadata": {},
     "output_type": "execute_result"
    }
   ],
   "source": [
    "def mean_diff(table, num_var, categ_var):\n",
    "    reduced = table.select(categ_var, num_var)\n",
    "    means_table = reduced.group(categ_var, np.average)\n",
    "    means = means_table.column(1)\n",
    "    observed_diff = means.item(1) - means.item(0)\n",
    "    return observed_diff\n",
    "\n",
    "mean_diff(house_hyp, 'house_square_feet', 'Class')"
   ]
  },
  {
   "cell_type": "code",
   "execution_count": 77,
   "id": "9322a84c-4973-45b1-b42e-a8c4049ff577",
   "metadata": {
    "tags": []
   },
   "outputs": [],
   "source": [
    "shuffled_labels = house_hyp.sample(with_replacement=False).column('Class')"
   ]
  },
  {
   "cell_type": "code",
   "execution_count": 78,
   "id": "0e4c3797-1c8d-4f3e-8247-ee097c6b1dbf",
   "metadata": {
    "tags": []
   },
   "outputs": [
    {
     "data": {
      "text/plain": [
       "21.56836695507991"
      ]
     },
     "execution_count": 78,
     "metadata": {},
     "output_type": "execute_result"
    }
   ],
   "source": [
    "def one_simulated_diff(table, num_var, categ_var):\n",
    "    shuffled_labels = table.sample(with_replacement=False).column(categ_var)\n",
    "    shuffled_table = table.select(num_var).with_column('Shuffled Labels', shuffled_labels)\n",
    "    return mean_diff(shuffled_table, num_var, 'Shuffled Labels')\n",
    "\n",
    "one_simulated_diff(house_hyp, 'house_square_feet', 'Class')"
   ]
  },
  {
   "cell_type": "code",
   "execution_count": 79,
   "id": "ad93530e-dcf1-4cbc-8546-f1a476e59bd1",
   "metadata": {
    "tags": []
   },
   "outputs": [],
   "source": [
    "differences = make_array()\n",
    "\n",
    "for i in np.arange(100):\n",
    "    differences = np.append(differences, one_simulated_diff(house_hyp, 'house_square_feet', 'Class'))"
   ]
  },
  {
   "cell_type": "code",
   "execution_count": 80,
   "id": "87dc4d45-58c4-402f-ba47-ca6317b1f7e4",
   "metadata": {
    "tags": []
   },
   "outputs": [
    {
     "data": {
      "image/png": "[encoded data removed]",
      "text/plain": [
       "<Figure size 600x400 with 1 Axes>"
      ]
     },
     "metadata": {},
     "output_type": "display_data"
    }
   ],
   "source": [
    "Table().with_column('Diffrences in Group Means', differences).hist()\n",
    "plots.plot([observed_value, observed_value], [0, 0.03], color = 'red', lw=2);"
   ]
  },
  {
   "cell_type": "code",
   "execution_count": 81,
   "id": "bbfe2de2-d8dc-480f-9703-baff10f61a9d",
   "metadata": {
    "tags": []
   },
   "outputs": [
    {
     "data": {
      "text/plain": [
       "0.0"
      ]
     },
     "execution_count": 81,
     "metadata": {},
     "output_type": "execute_result"
    }
   ],
   "source": [
    "p_value = sum(differences >= observed_value) / 100\n",
    "p_value"
   ]
  },
  {
   "cell_type": "markdown",
   "id": "c05069f6-cd60-4dca-9a04-b8880457f4d9",
   "metadata": {},
   "source": [
    "In this case, our null hypothesis states that there is no difference on average between the house square feet of buildings with 0 or 1 stories and the house square feet of of buildings with 2 or more stories. Our alternative hypothesis states that the house square feet of buildings with 0 or 1 stories is lesser on average than the house square feet of of buildings with 2 or more stories. At the 0.05, significance level the null hypothesis should be rejected because the p-value of 0.0 is less than the alpha of 0.05. Since the observed test statistic was 0, it indicated that the observed test statistic was not at all close to what the null hypothesis states, meaning the data rejects null hypothesis and is more in favor of the alternative hypothesis. In this case, this means that the data more so supports the claim that the house square feet of buildings with 0 or 1 stories is lesser on average than the house square feet of of buildings with 2 or more stories, also meaning that the difference in the average square feet of houses based on stories was unlikely to have happened because of random chance. "
   ]
  },
  {
   "cell_type": "markdown",
   "id": "eb333125-16bc-4b38-a9d3-f4e820628b82",
   "metadata": {},
   "source": [
    "## Is it possible predict whether a building is of class 1(0 or 1 stories) or of class 0(2 or more stories), based on the _dollar amount recorded for the sale_ and _sum of the square feet for the building_?"
   ]
  },
  {
   "cell_type": "code",
   "execution_count": 41,
   "id": "35cdab35-1c9e-451c-b358-9d1b70e2c4be",
   "metadata": {
    "tags": []
   },
   "outputs": [
    {
     "data": {
      "text/html": [
       "<table border=\"1\" class=\"dataframe\">\n",
       "    <thead>\n",
       "        <tr>\n",
       "            <th>sale_price (std)</th> <th>house_square_feet (std)</th> <th>Class</th>\n",
       "        </tr>\n",
       "    </thead>\n",
       "    <tbody>\n",
       "        <tr>\n",
       "            <td>-0.344097       </td> <td>0.36436                </td> <td>0    </td>\n",
       "        </tr>\n",
       "        <tr>\n",
       "            <td>-0.331389       </td> <td>0.470883               </td> <td>0    </td>\n",
       "        </tr>\n",
       "        <tr>\n",
       "            <td>-0.175084       </td> <td>-0.562788              </td> <td>1    </td>\n",
       "        </tr>\n",
       "        <tr>\n",
       "            <td>-0.887735       </td> <td>-1.37815               </td> <td>1    </td>\n",
       "        </tr>\n",
       "        <tr>\n",
       "            <td>0.164213        </td> <td>-0.131434              </td> <td>1    </td>\n",
       "        </tr>\n",
       "        <tr>\n",
       "            <td>-0.894767       </td> <td>-1.17168               </td> <td>1    </td>\n",
       "        </tr>\n",
       "        <tr>\n",
       "            <td>-0.428816       </td> <td>0.221014               </td> <td>0    </td>\n",
       "        </tr>\n",
       "        <tr>\n",
       "            <td>-0.386456       </td> <td>-1.00203               </td> <td>1    </td>\n",
       "        </tr>\n",
       "        <tr>\n",
       "            <td>0.100674        </td> <td>-1.18615               </td> <td>1    </td>\n",
       "        </tr>\n",
       "        <tr>\n",
       "            <td>0.0583151       </td> <td>0.470883               </td> <td>0    </td>\n",
       "        </tr>\n",
       "    </tbody>\n",
       "</table>\n",
       "<p>... (16804 rows omitted)</p>"
      ],
      "text/plain": [
       "sale_price (std) | house_square_feet (std) | Class\n",
       "-0.344097        | 0.36436                 | 0\n",
       "-0.331389        | 0.470883                | 0\n",
       "-0.175084        | -0.562788               | 1\n",
       "-0.887735        | -1.37815                | 1\n",
       "0.164213         | -0.131434               | 1\n",
       "-0.894767        | -1.17168                | 1\n",
       "-0.428816        | 0.221014                | 0\n",
       "-0.386456        | -1.00203                | 1\n",
       "0.100674         | -1.18615                | 1\n",
       "0.0583151        | 0.470883                | 0\n",
       "... (16804 rows omitted)"
      ]
     },
     "execution_count": 41,
     "metadata": {},
     "output_type": "execute_result"
    }
   ],
   "source": [
    "\n",
    "def standard_units(x):\n",
    "    return (x - np.mean(x)) / np.std(x)\n",
    "\n",
    "sale_price_std = standard_units(house_sales.column('sale_price'))\n",
    "house_square_feet_std = standard_units(house_sales.column('house_square_feet'))\n",
    "\n",
    "\n",
    "house_classify = Table().with_columns(\n",
    "    'sale_price (std)', sale_price_std,\n",
    "    'house_square_feet (std)', house_square_feet_std,\n",
    "    'Class', class_variable\n",
    ")\n",
    "house_classify"
   ]
  },
  {
   "cell_type": "code",
   "execution_count": 44,
   "id": "c8fe297d-b538-431b-b054-c1f6f385234d",
   "metadata": {
    "tags": []
   },
   "outputs": [],
   "source": [
    "\n",
    "shuffled_house_classify = house_classify.sample(with_replacement=False).take(np.arange(3000))\n",
    "\n",
    "np.random.seed(1236514109)\n"
   ]
  },
  {
   "cell_type": "code",
   "execution_count": 50,
   "id": "3918e589-ca23-4d92-aeb9-1d363b370a06",
   "metadata": {
    "tags": []
   },
   "outputs": [],
   "source": [
    "\n",
    "train_size = int(np.round(shuffled_house_classify.num_rows * 0.70))\n",
    "house_train = shuffled_house_classify.take(np.arange(train_size))\n",
    "house_test = shuffled_house_classify.take(np.arange(train_size, shuffled_house_classify.num_rows)) "
   ]
  },
  {
   "cell_type": "code",
   "execution_count": 53,
   "id": "c2225d54-e4ff-4c31-9c9f-5171caa68c41",
   "metadata": {
    "tags": []
   },
   "outputs": [],
   "source": [
    "def distance(pt1, pt2):\n",
    "    \"\"\"Return the distance between two points, represented as arrays\"\"\"\n",
    "    return np.sqrt(sum((pt1 - pt2)**2))\n",
    "\n",
    "def row_distance(row1, row2):\n",
    "    \"\"\"Return the distance between two numerical rows of a table\"\"\"\n",
    "    return distance(np.array(row1), np.array(row2))\n",
    "\n",
    "def distances(training, example):\n",
    "    \"\"\"\n",
    "    Compute distance between example and every row in training.\n",
    "    Return training augmented with Distance column\n",
    "    \"\"\"\n",
    "    distances = make_array()\n",
    "    attributes_only = training.drop('Class')\n",
    "    \n",
    "    for i in np.arange(attributes_only.num_rows):\n",
    "        row = attributes_only.row(i)\n",
    "        distances = np.append(distances, row_distance(row, example))\n",
    "        \n",
    "    return training.with_column('Distance_to_ex', distances)\n",
    "\n",
    "def closest(training, example, k):\n",
    "    \"\"\"\n",
    "    Return a table of the k closest neighbors to example\n",
    "    \"\"\"\n",
    "    return distances(training, example).sort('Distance_to_ex').take(np.arange(k))\n",
    "\n",
    "\n",
    "def majority_class(topk):\n",
    "    \"\"\"\n",
    "    Return the class with the highest count\n",
    "    \"\"\"\n",
    "    return topk.group('Class').sort('count', descending=True).column(0).item(0)\n",
    "\n",
    "def classify(training, example, k):\n",
    "    \"\"\"\n",
    "    Return the majority class among the \n",
    "    k nearest neighbors of example\n",
    "    \"\"\"\n",
    "    return majority_class(closest(training, example, k))\n",
    "\n",
    "def evaluate_accuracy(training, test, k):\n",
    "    \"\"\"Return the proportion of correctly classified examples \n",
    "    in the test set\"\"\"\n",
    "    test_attributes = test.drop('Class')\n",
    "    num_correct = 0\n",
    "    for i in np.arange(test.num_rows):\n",
    "        c = classify(training, test_attributes.row(i), k)\n",
    "        num_correct = num_correct + (c == test.column('Class').item(i))\n",
    "    return num_correct / test.num_rows"
   ]
  },
  {
   "cell_type": "code",
   "execution_count": 54,
   "id": "7c5be810-8b46-4798-a3d7-9f3f059e82e9",
   "metadata": {
    "tags": []
   },
   "outputs": [
    {
     "data": {
      "text/plain": [
       "0.7822222222222223"
      ]
     },
     "execution_count": 54,
     "metadata": {},
     "output_type": "execute_result"
    }
   ],
   "source": [
    "\n",
    "model_accuracy = evaluate_accuracy(house_train, house_test, 5)\n",
    "model_accuracy"
   ]
  }
 ],
 "metadata": {
  "kernelspec": {
   "display_name": "Python 3 (ipykernel)",
   "language": "python",
   "name": "python3"
  },
  "language_info": {
   "codemirror_mode": {
    "name": "ipython",
    "version": 3
   },
   "file_extension": ".py",
   "mimetype": "text/x-python",
   "name": "python",
   "nbconvert_exporter": "python",
   "pygments_lexer": "ipython3",
   "version": "3.11.4"
  }
 },
 "nbformat": 4,
 "nbformat_minor": 5
}
